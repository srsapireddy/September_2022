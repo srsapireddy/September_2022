{
  "nbformat": 4,
  "nbformat_minor": 0,
  "metadata": {
    "colab": {
      "provenance": []
    },
    "kernelspec": {
      "name": "python3",
      "display_name": "Python 3"
    },
    "language_info": {
      "name": "python"
    }
  },
  "cells": [
    {
      "cell_type": "markdown",
      "source": [
        "2 REGIONS"
      ],
      "metadata": {
        "id": "npPRBlUtv4K8"
      }
    },
    {
      "cell_type": "code",
      "execution_count": 8,
      "metadata": {
        "colab": {
          "base_uri": "https://localhost:8080/"
        },
        "id": "BB_hyQt_Ayff",
        "outputId": "4e198ade-04d3-42bf-b79e-e505ea25e336"
      },
      "outputs": [
        {
          "output_type": "execute_result",
          "data": {
            "text/plain": [
              "array([0.04742587, 0.9999546 , 0.00669292, 0.98201376, 0.99908894],\n",
              "      dtype=float32)"
            ]
          },
          "metadata": {},
          "execution_count": 8
        }
      ],
      "source": [
        "import tensorflow as tf\n",
        "a = tf.constant([-3, 10, -5, 4, 7], dtype = tf.float32)\n",
        "b = tf.keras.activations.sigmoid(a)\n",
        "b.numpy()"
      ]
    },
    {
      "cell_type": "code",
      "source": [
        "# Importing the Tensorflow library\n",
        "import tensorflow as tf\n",
        " \n",
        "# A constant vector of size 6\n",
        "a = tf.constant([-3, 10, -5, 4, 7], dtype = tf.float32)\n",
        " \n",
        "# Applying the sigmoid function and\n",
        "# storing the result in 'b'\n",
        "b = tf.nn.sigmoid(a, name ='sigmoid')\n",
        " \n",
        "\n",
        "print(b)"
      ],
      "metadata": {
        "colab": {
          "base_uri": "https://localhost:8080/"
        },
        "id": "ETEjN_tBCweR",
        "outputId": "0564002e-9e66-485c-b41a-905455262575"
      },
      "execution_count": 9,
      "outputs": [
        {
          "output_type": "stream",
          "name": "stdout",
          "text": [
            "tf.Tensor([0.04742587 0.9999546  0.00669292 0.98201376 0.99908894], shape=(5,), dtype=float32)\n"
          ]
        }
      ]
    },
    {
      "cell_type": "code",
      "source": [
        "from keras.layers import Activation\n",
        "from keras import backend as K\n",
        "from keras.utils.generic_utils import get_custom_objects\n",
        "import numpy as np\n",
        "def custom_activation(x):\n",
        "\n",
        "  r = K.tf.where(\n",
        "         condition=(K.tf.logical_and(K.tf.greater(x, -10), K.tf.less(x, 0))),\n",
        "         x=K.tf.add(0.017,K.tf.multiply(0.002,x)),\n",
        "         y=K.tf.add(0.803,K.tf.multiply(0.038,x))\n",
        "     )\n",
        "  return r\n",
        "b = np.array([-3, 10, -5, 4, 7])\n",
        "print(custom_activation(b))"
      ],
      "metadata": {
        "colab": {
          "base_uri": "https://localhost:8080/"
        },
        "id": "htmladY4Et89",
        "outputId": "5512982b-317b-487c-fab2-b5dd3d921a76"
      },
      "execution_count": 10,
      "outputs": [
        {
          "output_type": "stream",
          "name": "stdout",
          "text": [
            "tf.Tensor([0.011 1.183 0.007 0.955 1.069], shape=(5,), dtype=float32)\n"
          ]
        }
      ]
    },
    {
      "cell_type": "markdown",
      "source": [
        "3 REGIONS"
      ],
      "metadata": {
        "id": "kOIx5ufNwLnJ"
      }
    },
    {
      "cell_type": "code",
      "source": [
        "from keras.layers import Activation\n",
        "from keras import backend as K\n",
        "from keras.utils.generic_utils import get_custom_objects\n",
        "# tf.cast(x, tf.float32)\n",
        "@tf.function\n",
        "def custom_activation(x):\n",
        "    \n",
        "  #def f1(): return 0.001\n",
        "  def f3(): return k.tf.add(0.134,k.tf.multiply(tf.cast(x, tf.float32),0.029))\n",
        "  def f4(): return K.tf.add(0.986,K.tf.multiply(0.002,tf.cast(x, tf.float32)))\n",
        "  def f2(): return K.tf.where(K.tf.logical_and(K.tf.greater(tf.cast(x, tf.float32), -2.5), K.tf.less(tf.cast(x, tf.float32), 2.5)),x=f3(),y=f4())\n",
        "  \n",
        "\n",
        "\n",
        "  r = K.tf.where(\n",
        "         condition=(K.tf.logical_and(K.tf.greater(tf.cast(x, tf.float32), -10), K.tf.less(tf.cast(x, tf.float32), -2.5))),\n",
        "         x=K.tf.add(0.026,K.tf.multiply(0.004,tf.cast(x, tf.float32))), \n",
        "         y=f2())\n",
        "\n",
        "  return r\n",
        "\n",
        "\n",
        "# [0.64565631 0.9999546  0.00669285 0.98201379 0.99908895]\n",
        "  return r\n",
        "b = np.array([-3, 10, -5, 4, 7])\n",
        "print(custom_activation(b))"
      ],
      "metadata": {
        "colab": {
          "base_uri": "https://localhost:8080/"
        },
        "id": "YU-XQv8mwK14",
        "outputId": "bcd8dcb5-4a4f-465a-9a91-d86622550ec1"
      },
      "execution_count": 17,
      "outputs": [
        {
          "output_type": "stream",
          "name": "stdout",
          "text": [
            "tf.Tensor([0.014 1.006 0.006 0.994 1.   ], shape=(5,), dtype=float32)\n"
          ]
        }
      ]
    },
    {
      "cell_type": "markdown",
      "source": [
        "5 REGIONS"
      ],
      "metadata": {
        "id": "v_bLXqvLbTpJ"
      }
    },
    {
      "cell_type": "code",
      "source": [
        "from keras.layers import Activation\n",
        "from keras import backend as k\n",
        "from keras.utils.generic_utils import get_custom_objects\n",
        "# tf.cast(x, tf.float32)\n",
        "@tf.function\n",
        "def custom_activation(x):\n",
        "  #def f1(): return k.tf.add(0.001,k.tf.add(x,7.5))\n",
        "  def f3(): return k.tf.add(0.134,k.tf.multiply(tf.cast(x, tf.float32),0.029))\n",
        "  def f5(): return k.tf.add(0.5,k.tf.multiply(tf.cast(x, tf.float32),0.231))\n",
        "  def f7(): return k.tf.add(0.938,k.tf.multiply(tf.cast(x, tf.float32),0.011))\n",
        "  def f9(): return k.tf.ones([1,1],tf.float32)\n",
        "\n",
        "\n",
        "  def f6(): return k.tf.where(k.tf.logical_and(k.tf.greater(tf.cast(x, tf.float32), 2), tf.less(tf.cast(x, tf.float32), 6)),x=f7(),y=f9())\n",
        "  def f4(): return k.tf.where(k.tf.logical_and(k.tf.greater(tf.cast(x, tf.float32), -2), tf.less(tf.cast(x, tf.float32), 2)),x=f5(),y=f6())\n",
        "  def f2(): return k.tf.where(k.tf.logical_and(k.tf.greater(tf.cast(x, tf.float32), -6), tf.less(tf.cast(x, tf.float32), -2)),x=f3(),y=f4())\n",
        "  \n",
        "  \n",
        "  r = tf.where(\n",
        "         condition=(k.tf.logical_and(k.tf.greater(tf.cast(x, tf.float32), -10), tf.less(tf.cast(x, tf.float32), -6))),\n",
        "         x=k.tf.add(0.008,k.tf.multiply(tf.cast(x, tf.float32),0.001)),\n",
        "         y=f2()\n",
        "     )\n",
        "\n",
        "  return r\n",
        "\n",
        "# [0.64565631 0.9999546  0.00669285 0.98201379 0.99908895]\n",
        "  return r\n",
        "b = np.array([-3, 10, -5, 4, 7])\n",
        "print(custom_activation(b))"
      ],
      "metadata": {
        "colab": {
          "base_uri": "https://localhost:8080/"
        },
        "id": "rauNBWiibXLL",
        "outputId": "f2957c1c-6955-4b29-c1ee-1c6bb9e3b130"
      },
      "execution_count": 12,
      "outputs": [
        {
          "output_type": "stream",
          "name": "stdout",
          "text": [
            "tf.Tensor([[ 0.04700001  1.         -0.01099999  0.982       1.        ]], shape=(1, 5), dtype=float32)\n"
          ]
        }
      ]
    },
    {
      "cell_type": "code",
      "source": [
        "from numpy import sin,linspace\n",
        "from pylab import plot,show\n",
        "\n",
        "def f(x): # Sigmoid function\n",
        " return 1./(1+np.exp(-x));  \n",
        "\n",
        "# evaluation of the function\n",
        "x = linspace(-10,10,150)\n",
        "y = f(x)\n",
        "\n",
        "a = 6\n",
        "h = 1\n",
        "fprime = (f(a+h)-f(a))/h # derivative\n",
        "print(fprime)\n",
        "tan = f(a)+fprime*(x-a)  # tangent\n",
        "\n",
        "# plot of the function and the tangent\n",
        "plot(x,y,'b',a,f(a),'om',x,tan,'--r')\n",
        "show()\n",
        "\n",
        "\"\"\"\n",
        "from pylab import *\n",
        "import sympy as sy\n",
        "x = sy.Symbol('x')\n",
        "\n",
        "# derivative of f(x)\n",
        "def f(x):\n",
        "  return 1/(1 + sy.exp(-x))\n",
        "\n",
        "def fprime(x):\n",
        "  return sy.diff(f(x))\n",
        "print(fprime(x))\n",
        "\"\"\"\n",
        "print(\"(\",a,\",\",f(a),\")\")\n",
        "#print(fprime)\n",
        "\n",
        "#c = f(3)+fprime*(x-3)\n",
        "#print(c)\n",
        "#print(f'y- {f(a)} = {c}(x-{a})')\n",
        "#x, y = 6, 4\n",
        "#dif = exp(-x)/((1+exp(-x))**2)\n",
        "\n",
        "#y = f(a) + fprime(x-a)\n",
        "print(f'y = {round(f(a),3)} + {round(fprime,3)}(x-{a})')"
      ],
      "metadata": {
        "colab": {
          "base_uri": "https://localhost:8080/",
          "height": 317
        },
        "id": "FhOhv8xk0YEz",
        "outputId": "5231a8a0-66cb-40d1-ba54-5381f0d76ae1"
      },
      "execution_count": 15,
      "outputs": [
        {
          "output_type": "stream",
          "name": "stdout",
          "text": [
            "0.001561571962234054\n"
          ]
        },
        {
          "output_type": "display_data",
          "data": {
            "text/plain": [
              "<Figure size 432x288 with 1 Axes>"
            ],
            "image/png": "[encoded data removed]"
          },
          "metadata": {
            "needs_background": "light"
          }
        },
        {
          "output_type": "stream",
          "name": "stdout",
          "text": [
            "( 6 , 0.9975273768433653 )\n",
            "y = 0.998 + 0.002(x-6)\n"
          ]
        }
      ]
    }
  ]
}